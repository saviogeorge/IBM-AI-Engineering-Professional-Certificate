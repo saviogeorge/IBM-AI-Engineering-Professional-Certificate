{
 "cells": [
  {
   "cell_type": "markdown",
   "id": "f3c8ef40-0a1f-42ac-a6e1-2d2d2a001874",
   "metadata": {},
   "source": [
    "A. Build a baseline model (5 marks) \n",
    "\n",
    "Use the Keras library to build a neural network with the following:\n",
    "\n",
    "- One hidden layer of 10 nodes, and a ReLU activation function\n",
    "\n",
    "- Use the adam optimizer and the mean squared error  as the loss function.\n",
    "\n",
    "1. Randomly split the data into a training and test sets by holding 30% of the data for testing. You can use the \n",
    "train_test_split\n",
    "helper function from Scikit-learn.\n",
    "\n",
    "2. Train the model on the training data using 50 epochs.\n",
    "\n",
    "3. Evaluate the model on the test data and compute the mean squared error between the predicted concrete strength and the actual concrete strength. You can use the mean_squared_error function from Scikit-learn.\n",
    "\n",
    "4. Repeat steps 1 - 3, 50 times, i.e., create a list of 50 mean squared errors.\n",
    "\n",
    "5. Report the mean and the standard deviation of the mean squared errors.\n",
    "6. Repeat part A and B(normalize_data.ipynb) but use a neural network with the following instead:\n",
    "\n",
    "- Three hidden layers, each of 10 nodes and ReLU activation function.\n",
    "\n"
   ]
  },
  {
   "cell_type": "code",
   "execution_count": 16,
   "id": "bad53d80-c412-4cc2-b58b-9ff2244d6183",
   "metadata": {
    "tags": []
   },
   "outputs": [
    {
     "name": "stdout",
     "output_type": "stream",
     "text": [
      "Requirement already satisfied: numpy==1.21.4 in /home/jupyterlab/conda/envs/python/lib/python3.7/site-packages (1.21.4)\n",
      "Requirement already satisfied: pandas==1.3.4 in /home/jupyterlab/conda/envs/python/lib/python3.7/site-packages (1.3.4)\n",
      "Requirement already satisfied: python-dateutil>=2.7.3 in /home/jupyterlab/conda/envs/python/lib/python3.7/site-packages (from pandas==1.3.4) (2.8.2)\n",
      "Requirement already satisfied: pytz>=2017.3 in /home/jupyterlab/conda/envs/python/lib/python3.7/site-packages (from pandas==1.3.4) (2023.3)\n",
      "Requirement already satisfied: numpy>=1.17.3 in /home/jupyterlab/conda/envs/python/lib/python3.7/site-packages (from pandas==1.3.4) (1.21.4)\n",
      "Requirement already satisfied: six>=1.5 in /home/jupyterlab/conda/envs/python/lib/python3.7/site-packages (from python-dateutil>=2.7.3->pandas==1.3.4) (1.16.0)\n",
      "Requirement already satisfied: keras==2.1.6 in /home/jupyterlab/conda/envs/python/lib/python3.7/site-packages (2.1.6)\n",
      "Requirement already satisfied: numpy>=1.9.1 in /home/jupyterlab/conda/envs/python/lib/python3.7/site-packages (from keras==2.1.6) (1.21.4)\n",
      "Requirement already satisfied: scipy>=0.14 in /home/jupyterlab/conda/envs/python/lib/python3.7/site-packages (from keras==2.1.6) (1.7.3)\n",
      "Requirement already satisfied: six>=1.9.0 in /home/jupyterlab/conda/envs/python/lib/python3.7/site-packages (from keras==2.1.6) (1.16.0)\n",
      "Requirement already satisfied: pyyaml in /home/jupyterlab/conda/envs/python/lib/python3.7/site-packages (from keras==2.1.6) (6.0)\n",
      "Requirement already satisfied: h5py in /home/jupyterlab/conda/envs/python/lib/python3.7/site-packages (from keras==2.1.6) (2.8.0)\n"
     ]
    }
   ],
   "source": [
    "!pip install numpy==1.21.4\n",
    "!pip install pandas==1.3.4\n",
    "!pip install keras==2.1.6"
   ]
  },
  {
   "cell_type": "code",
   "execution_count": 17,
   "id": "a259e849-d7f4-4831-b1d3-04ad3fab4b87",
   "metadata": {
    "tags": []
   },
   "outputs": [],
   "source": [
    "import keras\n",
    "from keras.models import Sequential\n",
    "from keras.layers import Dense\n",
    "from keras.utils import to_categorical\n",
    "from sklearn.model_selection import train_test_split"
   ]
  },
  {
   "cell_type": "code",
   "execution_count": 18,
   "id": "40ea71d2-4738-4604-9388-ef07df86b740",
   "metadata": {
    "tags": []
   },
   "outputs": [],
   "source": [
    "import pandas as pd\n",
    "import numpy as np"
   ]
  },
  {
   "cell_type": "code",
   "execution_count": 19,
   "id": "11fad2b2-3086-43e3-a641-2510c4b3ec8a",
   "metadata": {
    "tags": []
   },
   "outputs": [
    {
     "data": {
      "text/html": [
       "<div>\n",
       "<style scoped>\n",
       "    .dataframe tbody tr th:only-of-type {\n",
       "        vertical-align: middle;\n",
       "    }\n",
       "\n",
       "    .dataframe tbody tr th {\n",
       "        vertical-align: top;\n",
       "    }\n",
       "\n",
       "    .dataframe thead th {\n",
       "        text-align: right;\n",
       "    }\n",
       "</style>\n",
       "<table border=\"1\" class=\"dataframe\">\n",
       "  <thead>\n",
       "    <tr style=\"text-align: right;\">\n",
       "      <th></th>\n",
       "      <th>Cement</th>\n",
       "      <th>Blast Furnace Slag</th>\n",
       "      <th>Fly Ash</th>\n",
       "      <th>Water</th>\n",
       "      <th>Superplasticizer</th>\n",
       "      <th>Coarse Aggregate</th>\n",
       "      <th>Fine Aggregate</th>\n",
       "      <th>Age</th>\n",
       "      <th>Strength</th>\n",
       "    </tr>\n",
       "  </thead>\n",
       "  <tbody>\n",
       "    <tr>\n",
       "      <th>0</th>\n",
       "      <td>540.0</td>\n",
       "      <td>0.0</td>\n",
       "      <td>0.0</td>\n",
       "      <td>162.0</td>\n",
       "      <td>2.5</td>\n",
       "      <td>1040.0</td>\n",
       "      <td>676.0</td>\n",
       "      <td>28</td>\n",
       "      <td>79.99</td>\n",
       "    </tr>\n",
       "    <tr>\n",
       "      <th>1</th>\n",
       "      <td>540.0</td>\n",
       "      <td>0.0</td>\n",
       "      <td>0.0</td>\n",
       "      <td>162.0</td>\n",
       "      <td>2.5</td>\n",
       "      <td>1055.0</td>\n",
       "      <td>676.0</td>\n",
       "      <td>28</td>\n",
       "      <td>61.89</td>\n",
       "    </tr>\n",
       "    <tr>\n",
       "      <th>2</th>\n",
       "      <td>332.5</td>\n",
       "      <td>142.5</td>\n",
       "      <td>0.0</td>\n",
       "      <td>228.0</td>\n",
       "      <td>0.0</td>\n",
       "      <td>932.0</td>\n",
       "      <td>594.0</td>\n",
       "      <td>270</td>\n",
       "      <td>40.27</td>\n",
       "    </tr>\n",
       "    <tr>\n",
       "      <th>3</th>\n",
       "      <td>332.5</td>\n",
       "      <td>142.5</td>\n",
       "      <td>0.0</td>\n",
       "      <td>228.0</td>\n",
       "      <td>0.0</td>\n",
       "      <td>932.0</td>\n",
       "      <td>594.0</td>\n",
       "      <td>365</td>\n",
       "      <td>41.05</td>\n",
       "    </tr>\n",
       "    <tr>\n",
       "      <th>4</th>\n",
       "      <td>198.6</td>\n",
       "      <td>132.4</td>\n",
       "      <td>0.0</td>\n",
       "      <td>192.0</td>\n",
       "      <td>0.0</td>\n",
       "      <td>978.4</td>\n",
       "      <td>825.5</td>\n",
       "      <td>360</td>\n",
       "      <td>44.30</td>\n",
       "    </tr>\n",
       "  </tbody>\n",
       "</table>\n",
       "</div>"
      ],
      "text/plain": [
       "   Cement  Blast Furnace Slag  Fly Ash  Water  Superplasticizer  \\\n",
       "0   540.0                 0.0      0.0  162.0               2.5   \n",
       "1   540.0                 0.0      0.0  162.0               2.5   \n",
       "2   332.5               142.5      0.0  228.0               0.0   \n",
       "3   332.5               142.5      0.0  228.0               0.0   \n",
       "4   198.6               132.4      0.0  192.0               0.0   \n",
       "\n",
       "   Coarse Aggregate  Fine Aggregate  Age  Strength  \n",
       "0            1040.0           676.0   28     79.99  \n",
       "1            1055.0           676.0   28     61.89  \n",
       "2             932.0           594.0  270     40.27  \n",
       "3             932.0           594.0  365     41.05  \n",
       "4             978.4           825.5  360     44.30  "
      ]
     },
     "execution_count": 19,
     "metadata": {},
     "output_type": "execute_result"
    }
   ],
   "source": [
    "concrete_data = pd.read_csv(\"concrete_data.csv\")\n",
    "concrete_data.head()"
   ]
  },
  {
   "cell_type": "code",
   "execution_count": 20,
   "id": "3cc08809-3bc8-4e19-9544-c836414d82f3",
   "metadata": {
    "tags": []
   },
   "outputs": [
    {
     "name": "stdout",
     "output_type": "stream",
     "text": [
      "(1030, 9)\n",
      "Cement                0\n",
      "Blast Furnace Slag    0\n",
      "Fly Ash               0\n",
      "Water                 0\n",
      "Superplasticizer      0\n",
      "Coarse Aggregate      0\n",
      "Fine Aggregate        0\n",
      "Age                   0\n",
      "Strength              0\n",
      "dtype: int64\n"
     ]
    }
   ],
   "source": [
    "#checking the data points and features and also for missing values\n",
    "print(concrete_data.shape)\n",
    "print(concrete_data.isnull().sum())"
   ]
  },
  {
   "cell_type": "markdown",
   "id": "d6d4b467-63a1-4d06-9619-73679942f582",
   "metadata": {},
   "source": [
    "Split Data into predictors and target"
   ]
  },
  {
   "cell_type": "code",
   "execution_count": 21,
   "id": "ed0be6b1-756c-4faa-beb1-1ca9ec4354d8",
   "metadata": {
    "tags": []
   },
   "outputs": [],
   "source": [
    "concrete_data_columns = concrete_data.columns\n",
    "\n",
    "predictors = concrete_data[concrete_data_columns[concrete_data_columns != 'Strength']] # all columns except Strength\n",
    "target = concrete_data['Strength'] # Strength column"
   ]
  },
  {
   "cell_type": "markdown",
   "id": "9a810dde-e27e-47b8-b844-f555d588b27e",
   "metadata": {},
   "source": [
    "Sanity check for the predictors and the target"
   ]
  },
  {
   "cell_type": "code",
   "execution_count": 22,
   "id": "346c7247-3633-4e9c-bf8c-f12604fd9f61",
   "metadata": {
    "tags": []
   },
   "outputs": [
    {
     "name": "stdout",
     "output_type": "stream",
     "text": [
      "   Cement  Blast Furnace Slag  Fly Ash  Water  Superplasticizer  \\\n",
      "0   540.0                 0.0      0.0  162.0               2.5   \n",
      "1   540.0                 0.0      0.0  162.0               2.5   \n",
      "2   332.5               142.5      0.0  228.0               0.0   \n",
      "3   332.5               142.5      0.0  228.0               0.0   \n",
      "4   198.6               132.4      0.0  192.0               0.0   \n",
      "\n",
      "   Coarse Aggregate  Fine Aggregate  Age  \n",
      "0            1040.0           676.0   28  \n",
      "1            1055.0           676.0   28  \n",
      "2             932.0           594.0  270  \n",
      "3             932.0           594.0  365  \n",
      "4             978.4           825.5  360  \n"
     ]
    }
   ],
   "source": [
    "\n",
    "print(predictors.head())"
   ]
  },
  {
   "cell_type": "code",
   "execution_count": 23,
   "id": "c4df2f85-44ac-44a5-8036-05fd18547a34",
   "metadata": {
    "tags": []
   },
   "outputs": [
    {
     "name": "stdout",
     "output_type": "stream",
     "text": [
      "0    79.99\n",
      "1    61.89\n",
      "2    40.27\n",
      "3    41.05\n",
      "4    44.30\n",
      "Name: Strength, dtype: float64\n"
     ]
    }
   ],
   "source": [
    "print(target.head())"
   ]
  },
  {
   "cell_type": "code",
   "execution_count": 24,
   "id": "f188604a-81ac-47c2-9076-381697f0ae7c",
   "metadata": {},
   "outputs": [
    {
     "data": {
      "text/html": [
       "<div>\n",
       "<style scoped>\n",
       "    .dataframe tbody tr th:only-of-type {\n",
       "        vertical-align: middle;\n",
       "    }\n",
       "\n",
       "    .dataframe tbody tr th {\n",
       "        vertical-align: top;\n",
       "    }\n",
       "\n",
       "    .dataframe thead th {\n",
       "        text-align: right;\n",
       "    }\n",
       "</style>\n",
       "<table border=\"1\" class=\"dataframe\">\n",
       "  <thead>\n",
       "    <tr style=\"text-align: right;\">\n",
       "      <th></th>\n",
       "      <th>Cement</th>\n",
       "      <th>Blast Furnace Slag</th>\n",
       "      <th>Fly Ash</th>\n",
       "      <th>Water</th>\n",
       "      <th>Superplasticizer</th>\n",
       "      <th>Coarse Aggregate</th>\n",
       "      <th>Fine Aggregate</th>\n",
       "      <th>Age</th>\n",
       "    </tr>\n",
       "  </thead>\n",
       "  <tbody>\n",
       "    <tr>\n",
       "      <th>0</th>\n",
       "      <td>2.476712</td>\n",
       "      <td>-0.856472</td>\n",
       "      <td>-0.846733</td>\n",
       "      <td>-0.916319</td>\n",
       "      <td>-0.620147</td>\n",
       "      <td>0.862735</td>\n",
       "      <td>-1.217079</td>\n",
       "      <td>-0.279597</td>\n",
       "    </tr>\n",
       "    <tr>\n",
       "      <th>1</th>\n",
       "      <td>2.476712</td>\n",
       "      <td>-0.856472</td>\n",
       "      <td>-0.846733</td>\n",
       "      <td>-0.916319</td>\n",
       "      <td>-0.620147</td>\n",
       "      <td>1.055651</td>\n",
       "      <td>-1.217079</td>\n",
       "      <td>-0.279597</td>\n",
       "    </tr>\n",
       "    <tr>\n",
       "      <th>2</th>\n",
       "      <td>0.491187</td>\n",
       "      <td>0.795140</td>\n",
       "      <td>-0.846733</td>\n",
       "      <td>2.174405</td>\n",
       "      <td>-1.038638</td>\n",
       "      <td>-0.526262</td>\n",
       "      <td>-2.239829</td>\n",
       "      <td>3.551340</td>\n",
       "    </tr>\n",
       "    <tr>\n",
       "      <th>3</th>\n",
       "      <td>0.491187</td>\n",
       "      <td>0.795140</td>\n",
       "      <td>-0.846733</td>\n",
       "      <td>2.174405</td>\n",
       "      <td>-1.038638</td>\n",
       "      <td>-0.526262</td>\n",
       "      <td>-2.239829</td>\n",
       "      <td>5.055221</td>\n",
       "    </tr>\n",
       "    <tr>\n",
       "      <th>4</th>\n",
       "      <td>-0.790075</td>\n",
       "      <td>0.678079</td>\n",
       "      <td>-0.846733</td>\n",
       "      <td>0.488555</td>\n",
       "      <td>-1.038638</td>\n",
       "      <td>0.070492</td>\n",
       "      <td>0.647569</td>\n",
       "      <td>4.976069</td>\n",
       "    </tr>\n",
       "  </tbody>\n",
       "</table>\n",
       "</div>"
      ],
      "text/plain": [
       "     Cement  Blast Furnace Slag   Fly Ash     Water  Superplasticizer  \\\n",
       "0  2.476712           -0.856472 -0.846733 -0.916319         -0.620147   \n",
       "1  2.476712           -0.856472 -0.846733 -0.916319         -0.620147   \n",
       "2  0.491187            0.795140 -0.846733  2.174405         -1.038638   \n",
       "3  0.491187            0.795140 -0.846733  2.174405         -1.038638   \n",
       "4 -0.790075            0.678079 -0.846733  0.488555         -1.038638   \n",
       "\n",
       "   Coarse Aggregate  Fine Aggregate       Age  \n",
       "0          0.862735       -1.217079 -0.279597  \n",
       "1          1.055651       -1.217079 -0.279597  \n",
       "2         -0.526262       -2.239829  3.551340  \n",
       "3         -0.526262       -2.239829  5.055221  \n",
       "4          0.070492        0.647569  4.976069  "
      ]
     },
     "execution_count": 24,
     "metadata": {},
     "output_type": "execute_result"
    }
   ],
   "source": [
    "predictors_norm = (predictors - predictors.mean()) / predictors.std()\n",
    "predictors_norm.head()"
   ]
  },
  {
   "cell_type": "code",
   "execution_count": 25,
   "id": "dd274961-a1d5-44eb-8e67-c1683ceee9cc",
   "metadata": {
    "tags": []
   },
   "outputs": [
    {
     "data": {
      "text/plain": [
       "8"
      ]
     },
     "execution_count": 25,
     "metadata": {},
     "output_type": "execute_result"
    }
   ],
   "source": [
    "n_cols = predictors_norm.shape[1] # number of predictors\n",
    "n_cols"
   ]
  },
  {
   "cell_type": "markdown",
   "id": "0ed38a9b-9e9c-40ae-8abb-ea42b2515064",
   "metadata": {},
   "source": [
    "Build a neural network\n",
    " 1) 3 hidden layer of 10 nodes with ReLU activation function\n",
    " 2) Adam optimizer and MSE as loss function\n"
   ]
  },
  {
   "cell_type": "code",
   "execution_count": 26,
   "id": "7ade273e-e05d-4db6-943b-77656013cb7b",
   "metadata": {
    "tags": []
   },
   "outputs": [],
   "source": [
    "# define regression model\n",
    "def regression_model():\n",
    "    # create model\n",
    "    model = Sequential()\n",
    "    model.add(Dense(10, activation='relu', input_shape=(n_cols,)))\n",
    "    model.add(Dense(10, activation='relu'))\n",
    "    model.add(Dense(10, activation='relu'))\n",
    "    model.add(Dense(10, activation='relu'))\n",
    "    model.add(Dense(1))\n",
    "    \n",
    "    # compile model\n",
    "    model.compile(optimizer='adam', loss='mean_squared_error')\n",
    "    return model"
   ]
  },
  {
   "cell_type": "code",
   "execution_count": 27,
   "id": "972e19bb-3b96-476d-abc6-8dcf90460304",
   "metadata": {
    "tags": []
   },
   "outputs": [],
   "source": [
    "# Function to train and test the models for epochs from 100(default value) to 500 \n",
    "def regression_model_fit(model,number_of_epochs):\n",
    "    # fit the model leaving 30% of the data for validation\n",
    "    # setting verbosity to 0 to avoid unnecessary info display\n",
    "    return model.fit(x_train, y_train, epochs=number_of_epochs, verbose=0, validation_data=(x_test, y_test))\n"
   ]
  },
  {
   "cell_type": "markdown",
   "id": "502e21db-1cb4-483b-b7d0-845a60e8a5e8",
   "metadata": {},
   "source": [
    "Build a model with 1 hidden layer"
   ]
  },
  {
   "cell_type": "code",
   "execution_count": 28,
   "id": "88bcf03d-e95f-43c8-9f82-ff71c417523f",
   "metadata": {
    "tags": []
   },
   "outputs": [
    {
     "name": "stdout",
     "output_type": "stream",
     "text": [
      "_________________________________________________________________\n",
      "Layer (type)                 Output Shape              Param #   \n",
      "=================================================================\n",
      "dense_6 (Dense)              (None, 10)                90        \n",
      "_________________________________________________________________\n",
      "dense_7 (Dense)              (None, 10)                110       \n",
      "_________________________________________________________________\n",
      "dense_8 (Dense)              (None, 10)                110       \n",
      "_________________________________________________________________\n",
      "dense_9 (Dense)              (None, 10)                110       \n",
      "_________________________________________________________________\n",
      "dense_10 (Dense)             (None, 1)                 11        \n",
      "=================================================================\n",
      "Total params: 431\n",
      "Trainable params: 431\n",
      "Non-trainable params: 0\n",
      "_________________________________________________________________\n",
      "None\n"
     ]
    }
   ],
   "source": [
    "# build the model and its summary\n",
    "model_1_hidden_layer = regression_model()\n",
    "print(model_1_hidden_layer.summary())\n",
    "\n"
   ]
  },
  {
   "cell_type": "markdown",
   "id": "136c7f50-ff22-475b-9a2d-0a4ea89821ee",
   "metadata": {},
   "source": [
    "Train the model for 50 epochs"
   ]
  },
  {
   "cell_type": "code",
   "execution_count": 29,
   "id": "a897e1f1-3914-4555-9a8e-189ade46fa16",
   "metadata": {
    "tags": []
   },
   "outputs": [
    {
     "name": "stdout",
     "output_type": "stream",
     "text": [
      "iteration #1: mean_squared_error 88.84549740294422\n",
      "iteration #2: mean_squared_error 45.89089751012117\n",
      "iteration #3: mean_squared_error 45.287547262741136\n",
      "iteration #4: mean_squared_error 30.325521234555538\n",
      "iteration #5: mean_squared_error 35.23198078982652\n",
      "iteration #6: mean_squared_error 32.45774924639359\n",
      "iteration #7: mean_squared_error 30.8622915150664\n",
      "iteration #8: mean_squared_error 28.61810933579133\n",
      "iteration #9: mean_squared_error 28.06728612412141\n",
      "iteration #10: mean_squared_error 24.245912027204692\n",
      "iteration #11: mean_squared_error 30.6041554015817\n",
      "iteration #12: mean_squared_error 22.895597013454992\n",
      "iteration #13: mean_squared_error 28.001710786788596\n",
      "iteration #14: mean_squared_error 25.96539684406762\n",
      "iteration #15: mean_squared_error 25.28690747381414\n",
      "iteration #16: mean_squared_error 26.237467281255135\n",
      "iteration #17: mean_squared_error 28.539844315414676\n",
      "iteration #18: mean_squared_error 21.639339866761638\n",
      "iteration #19: mean_squared_error 26.29251718984067\n",
      "iteration #20: mean_squared_error 23.212795016835038\n",
      "iteration #21: mean_squared_error 25.215350938074796\n",
      "iteration #22: mean_squared_error 24.27248940575856\n",
      "iteration #23: mean_squared_error 24.590760524218908\n",
      "iteration #24: mean_squared_error 24.72302402261777\n",
      "iteration #25: mean_squared_error 24.336327222558673\n",
      "iteration #26: mean_squared_error 26.161949555850722\n",
      "iteration #27: mean_squared_error 23.129219555160375\n",
      "iteration #28: mean_squared_error 24.739827369023295\n",
      "iteration #29: mean_squared_error 23.455237058374102\n",
      "iteration #30: mean_squared_error 23.35786563910327\n",
      "iteration #31: mean_squared_error 20.44619976278262\n",
      "iteration #32: mean_squared_error 21.4289686888167\n",
      "iteration #33: mean_squared_error 17.65763910842945\n",
      "iteration #34: mean_squared_error 22.638612697811187\n",
      "iteration #35: mean_squared_error 23.313927468358507\n",
      "iteration #36: mean_squared_error 19.501898527916968\n",
      "iteration #37: mean_squared_error 19.31211920926486\n",
      "iteration #38: mean_squared_error 20.794875870244788\n",
      "iteration #39: mean_squared_error 20.822035098153023\n",
      "iteration #40: mean_squared_error 21.524845123291016\n",
      "iteration #41: mean_squared_error 20.03314752794778\n",
      "iteration #42: mean_squared_error 21.097382579420763\n",
      "iteration #43: mean_squared_error 16.638426530708387\n",
      "iteration #44: mean_squared_error 19.70029764268005\n",
      "iteration #45: mean_squared_error 17.890696775566028\n",
      "iteration #46: mean_squared_error 17.15301116770525\n",
      "iteration #47: mean_squared_error 17.157838941777793\n",
      "iteration #48: mean_squared_error 18.767400766267745\n",
      "iteration #49: mean_squared_error 16.470534716609226\n",
      "iteration #50: mean_squared_error 21.461703519605123\n"
     ]
    }
   ],
   "source": [
    "mse_list = []\n",
    "x_train = [] \n",
    "x_test = [] \n",
    "y_train = [] \n",
    "y_test = []\n",
    "for n in range(50):\n",
    "    #Randomly splitting the data into a training set (70%) and a test set (30%):  \n",
    "    x_train, x_test, y_train, y_test = train_test_split(predictors_norm, target, test_size=0.3)\n",
    "    result = regression_model_fit(model_1_hidden_layer, 50)\n",
    "    #Find mean_squared_error as last value in history.\n",
    "    mean_squared_error = result.history['val_loss'][-1]\n",
    "    #Add value of mean_squared_error to mse list.\n",
    "    mse_list.append(mean_squared_error)\n",
    "    print('iteration #{}: mean_squared_error {}'.format(n+1, mean_squared_error))\n",
    "    "
   ]
  },
  {
   "cell_type": "markdown",
   "id": "a16aaac5-8441-4d1b-9329-61a63e133ece",
   "metadata": {},
   "source": [
    "Mean and standard deviation of the MSE"
   ]
  },
  {
   "cell_type": "code",
   "execution_count": 30,
   "id": "998fd074-c638-4254-a2a4-4a78053fb388",
   "metadata": {
    "tags": []
   },
   "outputs": [
    {
     "name": "stdout",
     "output_type": "stream",
     "text": [
      "The mean of the mean squared errors: 25.72604273305356\n",
      "The standard deviation of the mean squared errors: 10.837530869417316\n"
     ]
    }
   ],
   "source": [
    "print('The mean of the mean squared errors: {}'.format(np.mean(mse_list)))\n",
    "print('The standard deviation of the mean squared errors: {}'.format(np.std(mse_list)))"
   ]
  },
  {
   "cell_type": "markdown",
   "id": "a215295a",
   "metadata": {},
   "source": [
    "Adding more hidden layers has introduced a greater imporvement in the model performance compared to simply increasing the number of epochs alone."
   ]
  }
 ],
 "metadata": {
  "kernelspec": {
   "display_name": "Python",
   "language": "python",
   "name": "conda-env-python-py"
  },
  "language_info": {
   "codemirror_mode": {
    "name": "ipython",
    "version": 3
   },
   "file_extension": ".py",
   "mimetype": "text/x-python",
   "name": "python",
   "nbconvert_exporter": "python",
   "pygments_lexer": "ipython3",
   "version": "3.7.12"
  }
 },
 "nbformat": 4,
 "nbformat_minor": 5
}
